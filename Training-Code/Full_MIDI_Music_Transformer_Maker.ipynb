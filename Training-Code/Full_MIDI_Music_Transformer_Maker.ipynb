{
  "cells": [
    {
      "cell_type": "markdown",
      "metadata": {
        "id": "VGrGd6__l5ch"
      },
      "source": [
        "# Full MIDI Music Transformer Maker (ver. 1.0)\n",
        "\n",
        "***\n",
        "\n",
        "Powered by tegridy-tools: https://github.com/asigalov61/tegridy-tools\n",
        "\n",
        "***\n",
        "\n",
        "WARNING: This complete implementation is a functioning model of the Artificial Intelligence. Please excercise great humility, care, and respect. https://www.nscai.gov/\n",
        "\n",
        "***\n",
        "\n",
        "#### Project Los Angeles\n",
        "\n",
        "#### Tegridy Code 2023\n",
        "\n",
        "***"
      ]
    },
    {
      "cell_type": "markdown",
      "metadata": {
        "id": "shLrgoXdl5cj"
      },
      "source": [
        "# GPU check"
      ]
    },
    {
      "cell_type": "code",
      "execution_count": null,
      "metadata": {
        "id": "X3rABEpKCO02"
      },
      "outputs": [],
      "source": [
        "!nvidia-smi"
      ]
    },
    {
      "cell_type": "markdown",
      "metadata": {
        "id": "0RcVC4btl5ck"
      },
      "source": [
        "# Setup environment"
      ]
    },
    {
      "cell_type": "code",
      "execution_count": null,
      "metadata": {
        "id": "viHgEaNACPTs"
      },
      "outputs": [],
      "source": [
        "!git clone https://github.com/asigalov61/tegridy-tools"
      ]
    },
    {
      "cell_type": "code",
      "execution_count": null,
      "metadata": {
        "id": "vK40g6V_BTNj"
      },
      "outputs": [],
      "source": [
        "!pip install --upgrade pip\n",
        "!pip install torch\n",
        "!pip install einops\n",
        "!pip install torch-summary\n",
        "!pip install sklearn\n",
        "!pip install tqdm\n",
        "!pip install matplotlib"
      ]
    },
    {
      "cell_type": "code",
      "execution_count": null,
      "metadata": {
        "id": "DzCOZU_gBiQV"
      },
      "outputs": [],
      "source": [
        "# Load modules and make data dir\n",
        "\n",
        "print('Loading modules...')\n",
        "\n",
        "import os\n",
        "import pickle\n",
        "import random\n",
        "import secrets\n",
        "import tqdm\n",
        "\n",
        "import torch\n",
        "import torch.optim as optim\n",
        "from torch.utils.data import DataLoader, Dataset\n",
        "\n",
        "torch.set_float32_matmul_precision('high')\n",
        "\n",
        "import matplotlib.pyplot as plt\n",
        "\n",
        "from torchsummary import summary\n",
        "from sklearn import metrics\n",
        "\n",
        "%cd /content/tegridy-tools/tegridy-tools/\n",
        "\n",
        "import TMIDIX\n",
        "\n",
        "%cd /content/tegridy-tools/tegridy-tools/X-Transformer\n",
        "\n",
        "from x_transformer import *\n",
        "\n",
        "%cd /content/\n",
        "\n",
        "if not os.path.exists('/content/INTS'):\n",
        "    os.makedirs('/content/INTS')\n",
        "\n",
        "import random\n",
        "from pprint import pprint\n",
        "\n",
        "print('Done')"
      ]
    },
    {
      "cell_type": "markdown",
      "metadata": {
        "id": "Sbhzy8FGl5cm"
      },
      "source": [
        "# Load training data"
      ]
    },
    {
      "cell_type": "code",
      "source": [
        "CHUNKS_LENGTH = 4096+4 # must be larger than model seq_len and must be divisible by 5\n",
        "MIN_NUMBER_OF_CHUNK_EVENTS = 102 # min number of MIDI events per chunk\n",
        "PAD_IDX = 1563 # model pad index\n",
        "\n",
        "dataset_addr = \"/content/INTS\"\n",
        "\n",
        "filez = list()\n",
        "for (dirpath, dirnames, filenames) in os.walk(dataset_addr):\n",
        "    filez += [os.path.join(dirpath, file) for file in filenames]\n",
        "print('=' * 70)\n",
        "\n",
        "filez.sort()\n",
        "\n",
        "print('Loading training data... Please wait...')\n",
        "print('=' * 70)\n",
        "\n",
        "train_data = []\n",
        "\n",
        "chunks_counter = 0\n",
        "discarted_chunks_counter = 0\n",
        "\n",
        "for f in tqdm.tqdm(filez[:20]):\n",
        "  train_d = pickle.load(open(f, 'rb'))\n",
        "  random.shuffle(train_d)\n",
        "  for t in train_d:\n",
        "\n",
        "    for i in range(0, len(t), CHUNKS_LENGTH):\n",
        "\n",
        "      if 0 <= max(t[i:i+CHUNKS_LENGTH]) < PAD_IDX: # final data integrity check\n",
        "\n",
        "        if len(t[i:i+CHUNKS_LENGTH]) == CHUNKS_LENGTH:\n",
        "          train_data.append(t[i:i+CHUNKS_LENGTH])\n",
        "\n",
        "        else:\n",
        "          if len(t[i:i+CHUNKS_LENGTH]) > MIN_NUMBER_OF_CHUNK_EVENTS * 5:\n",
        "            td = t[i:i+CHUNKS_LENGTH] + [PAD_IDX] * (CHUNKS_LENGTH-len(t[i:i+CHUNKS_LENGTH])) # padding with pad index\n",
        "            train_data.append(td)\n",
        "          else:\n",
        "            discarted_chunks_counter += 1\n",
        "\n",
        "        chunks_counter += 1\n",
        "\n",
        "print('=' * 70)\n",
        "print('Total number of imput chunks:', chunks_counter)\n",
        "print('Total number of good chunks:', len(train_data))\n",
        "print('Total number of discarted chunks:', discarted_chunks_counter, '/', round(100 * discarted_chunks_counter/chunks_counter, 3), '%')\n",
        "print('All data is good:', len(max(train_data, key=len)) == len(min(train_data, key=len)))\n",
        "print('=' * 70)\n",
        "print('Final data randomization...')\n",
        "random.shuffle(train_data)\n",
        "print('Done!')\n",
        "print('=' * 70)"
      ],
      "metadata": {
        "id": "9Bu5QHjL-IOj"
      },
      "execution_count": null,
      "outputs": []
    },
    {
      "cell_type": "code",
      "execution_count": null,
      "metadata": {
        "id": "LtHSA8MeCpGU"
      },
      "outputs": [],
      "source": [
        "len(train_data)"
      ]
    },
    {
      "cell_type": "code",
      "execution_count": null,
      "metadata": {
        "id": "NLg-NI2BCrtQ"
      },
      "outputs": [],
      "source": [
        "train_data[0][:15], train_data[0][-15:]"
      ]
    },
    {
      "cell_type": "code",
      "source": [
        "len(train_data) / 16"
      ],
      "metadata": {
        "id": "Xrawdn_ESX9p"
      },
      "execution_count": null,
      "outputs": []
    },
    {
      "cell_type": "markdown",
      "metadata": {
        "id": "VhZqBvqVl5cn"
      },
      "source": [
        "# Setup model"
      ]
    },
    {
      "cell_type": "code",
      "execution_count": null,
      "metadata": {
        "id": "6MPxk8PFCtJ1"
      },
      "outputs": [],
      "source": [
        "# Setup model\n",
        "\n",
        "# constants\n",
        "\n",
        "SEQ_LEN = 4096\n",
        "BATCH_SIZE = 2\n",
        "NUM_EPOCHS = 1\n",
        "GRADIENT_ACCUMULATE_EVERY = 8\n",
        "\n",
        "NUM_BATCHES = (len(train_data) // BATCH_SIZE // GRADIENT_ACCUMULATE_EVERY) * NUM_EPOCHS\n",
        "\n",
        "LEARNING_RATE = 2e-4\n",
        "\n",
        "VALIDATE_EVERY  = 100\n",
        "SAVE_EVERY = 1000\n",
        "GENERATE_EVERY  = 200\n",
        "PRINT_STATS_EVERY = 50\n",
        "\n",
        "GENERATE_LENGTH = 32\n",
        "\n",
        "# helpers\n",
        "\n",
        "def cycle(loader):\n",
        "    while True:\n",
        "        for data in loader:\n",
        "            yield data\n",
        "\n",
        "# instantiate the model\n",
        "\n",
        "model = TransformerWrapper(\n",
        "    num_tokens = 1564,\n",
        "    max_seq_len = SEQ_LEN,\n",
        "    attn_layers = Decoder(dim = 1024, depth = 18, heads = 8)\n",
        ")\n",
        "\n",
        "model = AutoregressiveWrapper(model, ignore_index = 1563)\n",
        "\n",
        "model = torch.nn.DataParallel(model)\n",
        "\n",
        "model.cuda()\n",
        "\n",
        "print('Done!')\n",
        "\n",
        "summary(model)\n",
        "\n",
        "# Dataloader\n",
        "\n",
        "class MusicDataset(Dataset):\n",
        "    def __init__(self, data, seq_len):\n",
        "        super().__init__()\n",
        "        self.data = data\n",
        "        self.seq_len = seq_len\n",
        "\n",
        "    def __getitem__(self, index):\n",
        "\n",
        "        # consequtive sampling\n",
        "\n",
        "        full_seq = torch.Tensor(self.data[index][:self.seq_len+1]).long()\n",
        "\n",
        "        return full_seq.cuda()\n",
        "\n",
        "    def __len__(self):\n",
        "        return (len(self.data) // BATCH_SIZE) * BATCH_SIZE\n",
        "\n",
        "train_dataset = MusicDataset(train_data, SEQ_LEN)\n",
        "val_dataset   = MusicDataset(train_data, SEQ_LEN)\n",
        "train_loader  = cycle(DataLoader(train_dataset, batch_size = BATCH_SIZE))\n",
        "val_loader    = cycle(DataLoader(val_dataset, batch_size = BATCH_SIZE))\n",
        "\n",
        "# optimizer\n",
        "\n",
        "optim = torch.optim.Adam(model.parameters(), lr=LEARNING_RATE)"
      ]
    },
    {
      "cell_type": "code",
      "execution_count": null,
      "metadata": {
        "id": "B52fOi3Rok15"
      },
      "outputs": [],
      "source": [
        "train_dataset[0][:15]"
      ]
    },
    {
      "cell_type": "code",
      "source": [
        "for t in train_loader:\n",
        "  print(t)\n",
        "  break"
      ],
      "metadata": {
        "id": "0G2YKkz3Bg3F"
      },
      "execution_count": null,
      "outputs": []
    },
    {
      "cell_type": "markdown",
      "metadata": {
        "id": "xJPxxFiwl5cn"
      },
      "source": [
        "# Train"
      ]
    },
    {
      "cell_type": "code",
      "execution_count": null,
      "metadata": {
        "id": "JgTifRdrCxUU"
      },
      "outputs": [],
      "source": [
        "# Train the model\n",
        "import random\n",
        "\n",
        "\n",
        "train_losses = []\n",
        "val_losses = []\n",
        "\n",
        "train_accs = []\n",
        "val_accs = []\n",
        "\n",
        "for i in tqdm.tqdm(range(NUM_BATCHES), mininterval=10., desc='Training'):\n",
        "    model.train()\n",
        "\n",
        "    for __ in range(GRADIENT_ACCUMULATE_EVERY):\n",
        "        loss, acc = model(next(train_loader))\n",
        "        loss.backward(torch.ones(loss.shape).cuda())\n",
        "\n",
        "    if i % PRINT_STATS_EVERY == 0:\n",
        "        print(f'Training loss: {loss.mean().item()}')\n",
        "        print(f'Training acc: {acc.mean().item()}')\n",
        "\n",
        "    train_losses.append(loss.mean().item())\n",
        "    train_accs.append(acc.mean().item())\n",
        "\n",
        "    torch.nn.utils.clip_grad_norm_(model.parameters(), 0.5)\n",
        "    optim.step()\n",
        "    optim.zero_grad()\n",
        "\n",
        "    if i % VALIDATE_EVERY == 0:\n",
        "        model.eval()\n",
        "        with torch.no_grad():\n",
        "            val_loss, val_acc = model(next(val_loader))\n",
        "\n",
        "            print(f'Validation loss: {val_loss.mean().item()}')\n",
        "            print(f'Validation acc: {val_acc.mean().item()}')\n",
        "\n",
        "            val_losses.append(val_loss.mean().item())\n",
        "            val_accs.append(val_acc.mean().item())\n",
        "\n",
        "            print('Plotting training loss graph...')\n",
        "\n",
        "            tr_loss_list = train_losses\n",
        "            plt.plot([i for i in range(len(tr_loss_list))] ,tr_loss_list, 'b')\n",
        "            plt.show()\n",
        "            plt.close()\n",
        "            print('Done!')\n",
        "\n",
        "            print('Plotting training acc graph...')\n",
        "\n",
        "            tr_loss_list = train_accs\n",
        "            plt.plot([i for i in range(len(tr_loss_list))] ,tr_loss_list, 'b')\n",
        "            plt.show()\n",
        "            plt.close()\n",
        "            print('Done!')\n",
        "\n",
        "            print('Plotting validation loss graph...')\n",
        "            tr_loss_list = val_losses\n",
        "            plt.plot([i for i in range(len(tr_loss_list))] ,tr_loss_list, 'b')\n",
        "            plt.show()\n",
        "            plt.close()\n",
        "            print('Done!')\n",
        "\n",
        "            print('Plotting validation acc graph...')\n",
        "            tr_loss_list = val_accs\n",
        "            plt.plot([i for i in range(len(tr_loss_list))] ,tr_loss_list, 'b')\n",
        "            plt.show()\n",
        "            plt.close()\n",
        "            print('Done!')\n",
        "\n",
        "    if i % GENERATE_EVERY == 0:\n",
        "        model.eval()\n",
        "        inp = random.choice(val_dataset)[:-1]\n",
        "\n",
        "        print(inp)\n",
        "\n",
        "        sample = model.module.generate(inp[None, ...], GENERATE_LENGTH)\n",
        "\n",
        "        print(sample)\n",
        "\n",
        "    if i % SAVE_EVERY == 0:\n",
        "\n",
        "        print('Saving model progress. Please wait...')\n",
        "        print('model_checkpoint_' + str(i) + '_steps_' + str(round(float(train_losses[-1]), 4)) + '_loss_' + str(round(float(train_accs[-1]), 4)) + '_acc.pth')\n",
        "\n",
        "        fname = '/content/drive/MyDrive/OUT/model_checkpoint_' + str(i) + '_steps_' + str(round(float(train_losses[-1]), 4)) + '_loss_' + str(round(float(train_accs[-1]), 4)) + '_acc.pth'\n",
        "\n",
        "        torch.save(model.state_dict(), fname)\n",
        "\n",
        "        data = [train_losses, train_accs, val_losses, val_accs]\n",
        "\n",
        "        TMIDIX.Tegridy_Any_Pickle_File_Writer(data, '/content/drive/MyDrive/OUT/losses_accs')\n",
        "\n",
        "        print('Done!')"
      ]
    },
    {
      "cell_type": "markdown",
      "metadata": {
        "id": "wBkMH2gWl5co"
      },
      "source": [
        "# Final Save"
      ]
    },
    {
      "cell_type": "code",
      "execution_count": null,
      "metadata": {
        "id": "k1ba3J9fIYOV"
      },
      "outputs": [],
      "source": [
        "print('Saving model progress. Please wait...')\n",
        "print('model_checkpoint_' + str(i) + '_steps_' + str(round(float(train_losses[-1]), 4)) + '_loss_' + str(round(float(train_accs[-1]), 4)) + '_acc.pth')\n",
        "\n",
        "fname = '/content/model_checkpoint_' + str(i) + '_steps_' + str(round(float(train_losses[-1]), 4)) + '_loss_' + str(round(float(train_accs[-1]), 4)) + '_acc.pth'\n",
        "\n",
        "torch.save(model.state_dict(), fname)\n",
        "\n",
        "print('Done!')"
      ]
    },
    {
      "cell_type": "code",
      "execution_count": null,
      "metadata": {
        "id": "4vE5Z15fCz1M"
      },
      "outputs": [],
      "source": [
        "# Save training loss graph\n",
        "\n",
        "plt.plot([i for i in range(len(train_losses))] ,train_losses, 'b')\n",
        "plt.savefig('/content/training_loss_graph.png')\n",
        "plt.close()\n",
        "print('Done!')\n",
        "\n",
        "# Save training acc graph\n",
        "\n",
        "plt.plot([i for i in range(len(train_accs))] ,train_accs, 'b')\n",
        "plt.savefig('/content/training_acc_graph.png')\n",
        "plt.close()\n",
        "print('Done!')\n",
        "\n",
        "# Save validation loss graph\n",
        "\n",
        "plt.plot([i for i in range(len(val_losses))] ,val_losses, 'b')\n",
        "plt.savefig('/content/validation_loss_graph.png')\n",
        "plt.close()\n",
        "print('Done!')\n",
        "\n",
        "# Save validation acc graph\n",
        "\n",
        "plt.plot([i for i in range(len(val_accs))] ,val_accs, 'b')\n",
        "plt.savefig('/content/validation_acc_graph.png')\n",
        "plt.close()\n",
        "print('Done!')"
      ]
    },
    {
      "cell_type": "code",
      "execution_count": null,
      "metadata": {
        "id": "NtP5I-h0l5cp"
      },
      "outputs": [],
      "source": [
        "data = [train_losses, train_accs, val_losses, val_accs]\n",
        "\n",
        "TMIDIX.Tegridy_Any_Pickle_File_Writer(data, '/content/losses_accuracies')"
      ]
    },
    {
      "cell_type": "markdown",
      "metadata": {
        "id": "feXay_Ed7mG5"
      },
      "source": [
        "# Eval"
      ]
    },
    {
      "cell_type": "code",
      "execution_count": null,
      "metadata": {
        "id": "9HOVTJQ0u_tg"
      },
      "outputs": [],
      "source": [
        "#@title Generate\n",
        "\n",
        "model.eval()\n",
        "\n",
        "inp = [random.choice(val_dataset)[:500].tolist()]\n",
        "\n",
        "inp = torch.LongTensor(inp).cuda()\n",
        "\n",
        "print(inp)\n",
        "\n",
        "sample = model.module.generate(inp, 500, temperature=0.8, return_prime=True)\n",
        "\n",
        "print(sample)"
      ]
    },
    {
      "cell_type": "code",
      "source": [
        "pprint(sample[0].tolist(), compact=True)"
      ],
      "metadata": {
        "id": "d00ptGptGZd7"
      },
      "execution_count": null,
      "outputs": []
    },
    {
      "cell_type": "code",
      "execution_count": null,
      "metadata": {
        "id": "Fw3eQPFCNSQM"
      },
      "outputs": [],
      "source": [
        "#@title Test INTs\n",
        "\n",
        "data = sample[0].tolist()\n",
        "\n",
        "print('Sample INTs', data[:15])\n",
        "\n",
        "if len(data) != 0:\n",
        "\n",
        "    song = data\n",
        "    song_f = []\n",
        "    time = 0\n",
        "    dur = 0\n",
        "    vel = 90\n",
        "    pitch = 0\n",
        "    channel = 0\n",
        "\n",
        "    son = []\n",
        "    song1 = []\n",
        "    for i in range(0, len(song), 5): # creating penta seqs...\n",
        "        song1.append(song[i:i+5])\n",
        "\n",
        "    patch_list = [0] * 16\n",
        "    patch_list[9] = 128\n",
        "\n",
        "    channels_list = [0] * 16\n",
        "    channels_list[9] = 1\n",
        "\n",
        "    for s in song1: # decoding...\n",
        "\n",
        "        # 1553 - pad token\n",
        "\n",
        "        # 1554 - patch change token\n",
        "        # 1555 - control change token\n",
        "        # 1556 - key after touch token\n",
        "        # 1557 - channel after touch token\n",
        "        # 1558 - pitch wheel change token\n",
        "        # 1559 - counters seq token\n",
        "\n",
        "        # 1560 - outro token\n",
        "        # 1561 - end token\n",
        "        # 1562 - start token\n",
        "\n",
        "        if s[0] < 256: # Note\n",
        "\n",
        "            patch = s[0]\n",
        "            time += (s[1]-256) * 16\n",
        "            dur = (s[2]-256-128) * 32\n",
        "            pitch = (s[3]-256-128-128) % 128\n",
        "            vel = (s[4]-256-128-128-256)\n",
        "\n",
        "            if patch in patch_list:\n",
        "                channel = patch_list.index(patch)\n",
        "                channels_list[channel] = 1\n",
        "\n",
        "            else:\n",
        "                if 0 in channels_list:\n",
        "                  channel = channels_list.index(0)\n",
        "                  channels_list[channel] = 1\n",
        "                  song_f.append(['patch_change', time, channel, patch])\n",
        "\n",
        "                else:\n",
        "                  channel = 15\n",
        "                  channels_list[channel] = 1\n",
        "                  song_f.append(['patch_change', time, channel, patch])\n",
        "\n",
        "            song_f.append(['note', time, dur, channel, pitch, vel])\n",
        "\n",
        "        if s[0] == 1554: # patch change\n",
        "\n",
        "            time += (s[1]-256) * 16\n",
        "            channel = (s[2]-(256+128+128+256+128))\n",
        "            patch = s[3]\n",
        "\n",
        "            if channel != 9:\n",
        "                patch_list[channel] = patch\n",
        "            else:\n",
        "                patch_list[channel] = patch + 128\n",
        "\n",
        "            song_f.append(['patch_change', time, channel, patch])\n",
        "\n",
        "        if s[0] == 1555: # control change\n",
        "\n",
        "            time += (s[1]-256) * 16\n",
        "            patch = s[2]\n",
        "            controller = (s[3]-(256+128+128+256+128+16))\n",
        "            controller_value = (s[4]-(256+128+128+256+128+16+128))\n",
        "\n",
        "            try:\n",
        "                channel = patch_list.index(patch)\n",
        "            except:\n",
        "                channel = 15\n",
        "\n",
        "            song_f.append(['control_change', time, channel, controller, controller_value])\n",
        "\n",
        "        if s[0] == 1556: # key after touch\n",
        "\n",
        "            time += (s[1]-256) * 16\n",
        "            patch = s[2]\n",
        "            pitch = (s[3]-256-128-128) % 128\n",
        "            vel = (s[4]-256-128-128-256)\n",
        "\n",
        "            try:\n",
        "                channel = patch_list.index(patch)\n",
        "            except:\n",
        "                channel = 15\n",
        "\n",
        "            song_f.append(['key_after_touch', time, channel, pitch, vel])\n",
        "\n",
        "        if s[0] == 1557: # channel after touch\n",
        "\n",
        "            time += (s[1]-256) * 16\n",
        "            patch = s[2]\n",
        "            vel = (s[3]-256-128-128-256)\n",
        "\n",
        "            try:\n",
        "                channel = patch_list.index(patch)\n",
        "            except:\n",
        "                channel = 15\n",
        "\n",
        "            song_f.append(['channel_after_touch', time, channel, vel])\n",
        "\n",
        "        if s[0] == 1558: # pitch wheel change\n",
        "\n",
        "            time += (s[1]-256) * 16\n",
        "            patch = s[2]\n",
        "            pitch_wheel = (s[3]-(256+128+128+256+128+16+128)) * 128\n",
        "\n",
        "            try:\n",
        "                channel = patch_list.index(patch)\n",
        "            except:\n",
        "                channel = 15\n",
        "\n",
        "            song_f.append(['pitch_wheel_change', time, channel, pitch_wheel])\n",
        "\n",
        "detailed_stats = TMIDIX.Tegridy_SONG_to_Full_MIDI_Converter(song_f,\n",
        "                                                    output_signature = 'FMT',\n",
        "                                                    output_file_name = '/content/LAMD-Music-Composition',\n",
        "                                                    track_name='Project Los Angeles'\n",
        "                                                    )"
      ]
    },
    {
      "cell_type": "markdown",
      "metadata": {
        "id": "z87TlDTVl5cp"
      },
      "source": [
        "# Congrats! You did it! :)"
      ]
    }
  ],
  "metadata": {
    "colab": {
      "private_outputs": true,
      "provenance": [],
      "machine_shape": "hm",
      "gpuClass": "premium",
      "gpuType": "A100"
    },
    "kernelspec": {
      "display_name": "Python 3",
      "name": "python3"
    },
    "language_info": {
      "codemirror_mode": {
        "name": "ipython",
        "version": 3
      },
      "file_extension": ".py",
      "mimetype": "text/x-python",
      "name": "python",
      "nbconvert_exporter": "python",
      "pygments_lexer": "ipython3",
      "version": "3.8.10"
    },
    "accelerator": "GPU"
  },
  "nbformat": 4,
  "nbformat_minor": 0
}